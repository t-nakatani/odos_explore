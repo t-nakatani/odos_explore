{
 "cells": [
  {
   "cell_type": "code",
   "execution_count": 1,
   "id": "df3cd327-b7e8-4d46-9577-6be1e339dacf",
   "metadata": {},
   "outputs": [],
   "source": [
    "# !pip install -q web3\n"
   ]
  },
  {
   "cell_type": "code",
   "execution_count": 10,
   "id": "c33a489b-e4a7-495d-97d9-9242208248de",
   "metadata": {},
   "outputs": [
    {
     "name": "stdout",
     "output_type": "stream",
     "text": [
      "{'inTokens': ['0xb97ef9ef8734c71904d8002f8b6bc66dd9c48a6e'], 'outTokens': ['0x474bb79c3e8e65dcc6df30f9de68592ed48bbfdb'], 'inAmounts': ['100000000'], 'outAmounts': ['98934699'], 'gasEstimate': 264212.0, 'dataGasEstimate': 0, 'gweiPerGas': 27.0, 'gasEstimateValue': 0.2528593324584863, 'inValues': [100.01557835099781], 'outValues': [99.27687972113029], 'netOutValue': 99.0240203886718, 'priceImpact': -0.35165099262688937, 'percentDiff': -0.7385835707264761, 'partnerFeePercent': 0.0, 'pathId': '02cb0489a86d0502f1045b774154e2a6', 'pathViz': None, 'blockNumber': 44252118}\n"
     ]
    }
   ],
   "source": [
    "import json\n",
    "import requests\n",
    "from web3 import Web3\n",
    "\n",
    "w3 = Web3()\n",
    "\n",
    "quote_url = \"https://api.odos.xyz/sor/quote/v2\"\n",
    "\n",
    "USDC = w3.to_checksum_address(\"0xb97ef9ef8734c71904d8002f8b6bc66dd9c48a6e\")\n",
    "zUSTD = w3.to_checksum_address(\"0x650cecafe61f3f65edd21efacca18cc905eef0b7\")\n",
    "zUSDC = w3.to_checksum_address(\"0x474bb79c3e8e65dcc6df30f9de68592ed48bbfdb\")\n",
    "\n",
    "quote_request_body = {\n",
    "    \"chainId\": 43114, # Replace with desired chainId\n",
    "    \"inputTokens\": [\n",
    "        {\n",
    "            \"tokenAddress\": USDC, # checksummed input token address\n",
    "            \"amount\": str(100 * 10 ** 6), # input amount as a string in fixed integer precision\n",
    "        }\n",
    "    ],\n",
    "    \"outputTokens\": [\n",
    "        {\n",
    "            \"tokenAddress\": zUSDC, # checksummed output token address\n",
    "            \"proportion\": 1\n",
    "        }\n",
    "    ],\n",
    "    \"slippageLimitPercent\": 0.3, # set your slippage limit percentage (1 = 1%)\n",
    "    \"userAddr\": \"0x81263f67a6354e58C54f485963ebcb6058422940\", # checksummed user address\n",
    "    \"referralCode\": 0, # referral code (recommended)\n",
    "    \"disableRFQs\": True,\n",
    "    \"compact\": True,\n",
    "}\n",
    "\n",
    "response = requests.post(\n",
    "  quote_url,\n",
    "  headers={\"Content-Type\": \"application/json\"},\n",
    "  json=quote_request_body\n",
    ")\n",
    "\n",
    "if response.status_code == 200:\n",
    "  quote = response.json()\n",
    "  print(quote)\n",
    "  # handle quote response data\n",
    "else:\n",
    "  print(f\"Error in Quote: {response.json()}\")\n",
    "  # handle quote failure cases"
   ]
  },
  {
   "cell_type": "code",
   "execution_count": 11,
   "id": "596626ac-1b72-4f4d-9401-8c3c1dc95fd7",
   "metadata": {},
   "outputs": [
    {
     "data": {
      "text/plain": [
       "{'inTokens': ['0xb97ef9ef8734c71904d8002f8b6bc66dd9c48a6e'],\n",
       " 'outTokens': ['0x474bb79c3e8e65dcc6df30f9de68592ed48bbfdb'],\n",
       " 'inAmounts': ['100000000'],\n",
       " 'outAmounts': ['98934699'],\n",
       " 'gasEstimate': 264212.0,\n",
       " 'dataGasEstimate': 0,\n",
       " 'gweiPerGas': 27.0,\n",
       " 'gasEstimateValue': 0.2528593324584863,\n",
       " 'inValues': [100.01557835099781],\n",
       " 'outValues': [99.27687972113029],\n",
       " 'netOutValue': 99.0240203886718,\n",
       " 'priceImpact': -0.35165099262688937,\n",
       " 'percentDiff': -0.7385835707264761,\n",
       " 'partnerFeePercent': 0.0,\n",
       " 'pathId': '02cb0489a86d0502f1045b774154e2a6',\n",
       " 'pathViz': None,\n",
       " 'blockNumber': 44252118}"
      ]
     },
     "execution_count": 11,
     "metadata": {},
     "output_type": "execute_result"
    }
   ],
   "source": [
    "quote"
   ]
  },
  {
   "cell_type": "code",
   "execution_count": 23,
   "id": "77817047-6d22-4441-a3ce-ace54c96b9e2",
   "metadata": {},
   "outputs": [
    {
     "name": "stdout",
     "output_type": "stream",
     "text": [
      "[2024-04-15 23:12:18.318467]\n",
      "{'inTokens': ['0xb97ef9ef8734c71904d8002f8b6bc66dd9c48a6e'], 'outTokens': ['0x474bb79c3e8e65dcc6df30f9de68592ed48bbfdb'], 'inAmounts': ['100000000'], 'outAmounts': ['99078229'], 'gasEstimate': 264212.0, 'dataGasEstimate': 0, 'gweiPerGas': 27.0, 'gasEstimateValue': 0.25278021129700523, 'inValues': [100.02728238756855], 'outValues': [99.38976276465594], 'netOutValue': 99.13698255335893, 'priceImpact': -0.35215811532713753, 'percentDiff': -0.6373457397777287, 'partnerFeePercent': 0.0, 'pathId': '8719067dbdd2817c9868a758274a5798', 'pathViz': None, 'blockNumber': 44252308}\n",
      "\n",
      "[2024-04-15 23:12:25.669350]\n",
      "{'inTokens': ['0xb97ef9ef8734c71904d8002f8b6bc66dd9c48a6e'], 'outTokens': ['0x474bb79c3e8e65dcc6df30f9de68592ed48bbfdb'], 'inAmounts': ['100000000'], 'outAmounts': ['99078229'], 'gasEstimate': 264212.0, 'dataGasEstimate': 0, 'gweiPerGas': 27.0, 'gasEstimateValue': 0.25276981096687057, 'inValues': [100.02561440545507], 'outValues': [99.38567457779702], 'netOutValue': 99.13290476683015, 'priceImpact': -0.35215811532714514, 'percentDiff': -0.6397759528514797, 'partnerFeePercent': 0.0, 'pathId': 'a7b981159dcac65aa5f824271c9e703a', 'pathViz': None, 'blockNumber': 44252313}\n",
      "\n"
     ]
    },
    {
     "ename": "KeyboardInterrupt",
     "evalue": "",
     "output_type": "error",
     "traceback": [
      "\u001b[0;31m---------------------------------------------------------------------------\u001b[0m",
      "\u001b[0;31mKeyboardInterrupt\u001b[0m                         Traceback (most recent call last)",
      "Cell \u001b[0;32mIn[23], line 68\u001b[0m\n\u001b[1;32m     59\u001b[0m quote_request \u001b[38;5;241m=\u001b[39m quote_service\u001b[38;5;241m.\u001b[39mcreate_quote_request(\n\u001b[1;32m     60\u001b[0m     chain_id\u001b[38;5;241m=\u001b[39m\u001b[38;5;241m43114\u001b[39m,\n\u001b[1;32m     61\u001b[0m     input_token\u001b[38;5;241m=\u001b[39mUSDC,\n\u001b[0;32m   (...)\u001b[0m\n\u001b[1;32m     65\u001b[0m     user_addr\u001b[38;5;241m=\u001b[39muser_addr\n\u001b[1;32m     66\u001b[0m )\n\u001b[1;32m     67\u001b[0m \u001b[38;5;28;01mwhile\u001b[39;00m(\u001b[38;5;241m1\u001b[39m):\n\u001b[0;32m---> 68\u001b[0m     \u001b[43mtime\u001b[49m\u001b[38;5;241;43m.\u001b[39;49m\u001b[43msleep\u001b[49m\u001b[43m(\u001b[49m\u001b[38;5;241;43m6\u001b[39;49m\u001b[43m)\u001b[49m\n\u001b[1;32m     69\u001b[0m     \u001b[38;5;66;03m# クォートを取得\u001b[39;00m\n\u001b[1;32m     70\u001b[0m     \u001b[38;5;28;01mtry\u001b[39;00m:\n",
      "\u001b[0;31mKeyboardInterrupt\u001b[0m: "
     ]
    }
   ],
   "source": [
    "import time\n",
    "from datetime import datetime\n",
    "import json\n",
    "import requests\n",
    "from web3 import Web3\n",
    "\n",
    "class AddressConverter:\n",
    "    def __init__(self):\n",
    "        self.w3 = Web3()\n",
    "\n",
    "    def to_checksum_address(self, address):\n",
    "        return self.w3.to_checksum_address(address)\n",
    "\n",
    "class QuoteService:\n",
    "    def __init__(self, quote_url, converter):\n",
    "        self.quote_url = quote_url\n",
    "        self.converter = converter\n",
    "        self.headers = {\"Content-Type\": \"application/json\"}\n",
    "\n",
    "    def create_quote_request(self, chain_id, input_token, input_amount, output_token, slippage, user_addr, referral_code=0, disable_rfqs=True, compact=True):\n",
    "        return {\n",
    "            \"chainId\": chain_id,\n",
    "            \"inputTokens\": [\n",
    "                {\n",
    "                    \"tokenAddress\": self.converter.to_checksum_address(input_token),\n",
    "                    \"amount\": str(input_amount)\n",
    "                }\n",
    "            ],\n",
    "            \"outputTokens\": [\n",
    "                {\n",
    "                    \"tokenAddress\": self.converter.to_checksum_address(output_token),\n",
    "                    \"proportion\": 1\n",
    "                }\n",
    "            ],\n",
    "            \"slippageLimitPercent\": slippage,\n",
    "            \"userAddr\": self.converter.to_checksum_address(user_addr),\n",
    "            \"referralCode\": referral_code,\n",
    "            \"disableRFQs\": disable_rfqs,\n",
    "            \"compact\": compact,\n",
    "        }\n",
    "\n",
    "    def get_quote(self, request_body):\n",
    "        response = requests.post(self.quote_url, headers=self.headers, json=request_body)\n",
    "        if response.status_code == 200:\n",
    "            return response.json()\n",
    "        else:\n",
    "            raise ValueError(f\"Error in Quote: {response.json()}\")\n",
    "\n",
    "# 使い方\n",
    "converter = AddressConverter()\n",
    "quote_service = QuoteService(\"https://api.odos.xyz/sor/quote/v2\", converter)\n",
    "\n",
    "# トークンアドレスとその他の情報\n",
    "USDC = \"0xb97ef9ef8734c71904d8002f8b6bc66dd9c48a6e\"\n",
    "zUSDC = \"0x474bb79c3e8e65dcc6df30f9de68592ed48bbfdb\"\n",
    "user_addr = \"0x81263f67a6354e58C54f485963ebcb6058422940\"\n",
    "\n",
    "# リクエストを作成\n",
    "quote_request = quote_service.create_quote_request(\n",
    "    chain_id=43114,\n",
    "    input_token=USDC,\n",
    "    input_amount=100 * 10 ** 6,\n",
    "    output_token=zUSDC,\n",
    "    slippage=0.3,\n",
    "    user_addr=user_addr\n",
    ")\n",
    "while(1):\n",
    "    time.sleep(60)\n",
    "    # クォートを取得\n",
    "    try:\n",
    "        quote = quote_service.get_quote(quote_request)\n",
    "        print(f'[{datetime.now()}]\\n{quote}\\n')\n",
    "    except ValueError as e:\n",
    "        print(str(e))\n",
    "    \n"
   ]
  },
  {
   "cell_type": "code",
   "execution_count": null,
   "id": "be8763ee-484d-4c44-83f7-317549dd14a7",
   "metadata": {},
   "outputs": [],
   "source": []
  }
 ],
 "metadata": {
  "kernelspec": {
   "display_name": "Python 3 (ipykernel)",
   "language": "python",
   "name": "python3"
  },
  "language_info": {
   "codemirror_mode": {
    "name": "ipython",
    "version": 3
   },
   "file_extension": ".py",
   "mimetype": "text/x-python",
   "name": "python",
   "nbconvert_exporter": "python",
   "pygments_lexer": "ipython3",
   "version": "3.10.14"
  }
 },
 "nbformat": 4,
 "nbformat_minor": 5
}
